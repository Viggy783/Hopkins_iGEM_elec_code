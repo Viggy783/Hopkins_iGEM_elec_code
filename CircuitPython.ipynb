{
 "cells": [
  {
   "cell_type": "markdown",
   "metadata": {},
   "source": [
    "https://learn.adafruit.com/circuitpython-basics-i2c-and-spi/i2c-devices\n",
    "\n",
    "https://learn.adafruit.com/circuitpython-digital-inputs-and-outputs/digital-outputs\n",
    "\n",
    "https://learn.adafruit.com/thermistor/circuitpython"
   ]
  },
  {
   "cell_type": "code",
   "execution_count": 17,
   "metadata": {},
   "outputs": [
    {
     "name": "stderr",
     "output_type": "stream",
     "text": [
      "No connection to CiruitPython VM: found no board"
     ]
    }
   ],
   "source": [
    "import board\n",
    "import busio\n",
    "import time\n",
    "import numpy as np"
   ]
  },
  {
   "cell_type": "code",
   "execution_count": 3,
   "metadata": {},
   "outputs": [
    {
     "name": "stderr",
     "output_type": "stream",
     "text": [
      "No connection to CiruitPython VM: found no board"
     ]
    }
   ],
   "source": [
    "i2c = busio.I2C(board.SCL, board.SDA)"
   ]
  },
  {
   "cell_type": "code",
   "execution_count": 4,
   "metadata": {},
   "outputs": [
    {
     "name": "stderr",
     "output_type": "stream",
     "text": [
      "No connection to CiruitPython VM: found no board"
     ]
    }
   ],
   "source": [
    "while not i2c.try_lock():\n",
    "    pass"
   ]
  },
  {
   "cell_type": "code",
   "execution_count": 1,
   "metadata": {},
   "outputs": [
    {
     "name": "stderr",
     "output_type": "stream",
     "text": [
      "No connection to CiruitPython VM: found no board"
     ]
    }
   ],
   "source": [
    "a = [hex(x) for x in i2c.scan()]"
   ]
  },
  {
   "cell_type": "code",
   "execution_count": 14,
   "metadata": {},
   "outputs": [
    {
     "name": "stderr",
     "output_type": "stream",
     "text": [
      "No connection to CiruitPython VM: found no board"
     ]
    }
   ],
   "source": [
    "mosfet1_address = \"\"\n",
    "mosfet2_address = \"\"\n",
    "mosfet_ON_cmd = \"\"\n",
    "mosfet_OFF_cmd = \"\""
   ]
  },
  {
   "cell_type": "code",
   "execution_count": 7,
   "metadata": {},
   "outputs": [
    {
     "name": "stderr",
     "output_type": "stream",
     "text": [
      "No connection to CiruitPython VM: found no board"
     ]
    }
   ],
   "source": [
    "coil1_address = \"\"\n",
    "coil2_address = \"\""
   ]
  },
  {
   "cell_type": "code",
   "execution_count": 21,
   "metadata": {},
   "outputs": [
    {
     "name": "stderr",
     "output_type": "stream",
     "text": [
      "No connection to CiruitPython VM: found no board"
     ]
    }
   ],
   "source": [
    "def current(coil, write_cmd, read_cmd):\n",
    "    i2c.writeto(coil, bytes(write_cmd), stop=False)\n",
    "    data = bytearray(read_cmd)\n",
    "    i2c.readfrom_into(coil, data)\n",
    "    value = data[0] << 8 | data[1]\n",
    "    I = (value & 0xFFF) / 16.0\n",
    "    if value & 0x1000:\n",
    "        I -= 256.0\n",
    "    return I"
   ]
  },
  {
   "cell_type": "code",
   "execution_count": null,
   "metadata": {},
   "outputs": [],
   "source": [
    "while abs(current(coil1_address)) <= 0.1:\n",
    "    i2c.writeto(mosfet1_address, bytes(write_cmd), stop=False)\n",
    "    "
   ]
  },
  {
   "cell_type": "code",
   "execution_count": null,
   "metadata": {},
   "outputs": [],
   "source": [
    "currents_c1 = []\n",
    "currents_c2 = []\n",
    "t = 0\n",
    "\n",
    "while t < 100:\n",
    "    currents_c1.append(current(coil1_address))\n",
    "    currents_c2.append(current(coil2_address))\n",
    "    time.sleep(0.1)\n",
    "    t += 1"
   ]
  },
  {
   "cell_type": "code",
   "execution_count": 19,
   "metadata": {
    "scrolled": true
   },
   "outputs": [
    {
     "name": "stderr",
     "output_type": "stream",
     "text": [
      "No connection to CiruitPython VM: found no board"
     ]
    }
   ],
   "source": [
    "if np.average(currents_c1) < 6:\n",
    "    # reduce resistance\n",
    "if np.average(currents_c2) < 0.8:\n",
    "    # reduce resistance\n",
    "    \n",
    "if np.average(currents_c1) > 7:\n",
    "    # increase resistance\n",
    "if np.average(currents_c2) > 1.2:\n",
    "    # increase resistance\n",
    "    \n",
    "if np.average(currents_c1) > 15:\n",
    "    i2c.writeto(mosfet1_address, bytes(mosfet_OFF_cmd), stop=False)\n",
    "    i2c.writeto(mosfet2_address, bytes(mosfet_OFF_cmd), stop=False)\n",
    "    # increase resistance to max\n",
    "if np.average(currents_c2) > 2:\n",
    "    i2c.writeto(mosfet1_address, bytes(mosfet_OFF_cmd), stop=False)\n",
    "    i2c.writeto(mosfet2_address, bytes(mosfet_OFF_cmd), stop=False)\n",
    "    # increase resistance to max"
   ]
  },
  {
   "cell_type": "code",
   "execution_count": 20,
   "metadata": {},
   "outputs": [
    {
     "name": "stderr",
     "output_type": "stream",
     "text": [
      "No connection to CiruitPython VM: found no board"
     ]
    }
   ],
   "source": [
    "i2c.unlock()"
   ]
  },
  {
   "cell_type": "code",
   "execution_count": null,
   "metadata": {},
   "outputs": [],
   "source": []
  }
 ],
 "metadata": {
  "kernelspec": {
   "display_name": "CircuitPython",
   "language": "python",
   "name": "circuitpython"
  },
  "language_info": {
   "codemirror_mode": {
    "name": "python",
    "version": 3
   },
   "file_extension": ".py",
   "mimetype": "text/x-python",
   "name": "python",
   "pygments_lexer": "python3",
   "version": "3"
  }
 },
 "nbformat": 4,
 "nbformat_minor": 4
}
